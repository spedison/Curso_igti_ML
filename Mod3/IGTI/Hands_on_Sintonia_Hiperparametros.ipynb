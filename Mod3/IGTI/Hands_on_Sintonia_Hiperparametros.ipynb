{
  "nbformat": 4,
  "nbformat_minor": 0,
  "metadata": {
    "kernelspec": {
      "display_name": "Python 3",
      "language": "python",
      "name": "python3"
    },
    "language_info": {
      "codemirror_mode": {
        "name": "ipython",
        "version": 3
      },
      "file_extension": ".py",
      "mimetype": "text/x-python",
      "name": "python",
      "nbconvert_exporter": "python",
      "pygments_lexer": "ipython3",
      "version": "3.6.4"
    },
    "colab": {
      "name": "Hands_on_Sintonia_Hiperparametros.ipynb",
      "provenance": [],
      "collapsed_sections": []
    }
  },
  "cells": [
    {
      "cell_type": "markdown",
      "metadata": {
        "id": "wIl-k3lr8Qiv"
      },
      "source": [
        "# **Hands-on Sintonia de Hiperparâmetros**\n",
        "\n",
        "---\n",
        "\n",
        "Sintonia de Hiperparâmetros com sklearn "
      ]
    },
    {
      "cell_type": "markdown",
      "metadata": {
        "id": "4ZbKcSgXEGG0"
      },
      "source": [
        "Vamos começar a olhar para alguns hiperparâmetros diversos e também para algumas tecnicas de otimização de hiperparâmetros.\n",
        "\n",
        "Vamos seguir utilizando a base de dados **diabetes.csv** </a> que pode ser encontrada no OpenML em: https://www.openml.org/d/37. Essa base descreve o problema de predizer o resultado positivo ou negativo de um teste para diabetes aplicado em um conjunto específico de pacientes na Índia. "
      ]
    },
    {
      "cell_type": "markdown",
      "metadata": {
        "id": "SN6weYKF8N8v"
      },
      "source": [
        "Para a primeira etapa, vamos utilizar a divisão treino e teste e olhar para os dois dos três classificadores que usamos durante o hands-on de Classificação.\n",
        "Note que, o processo é equivalente para as demais tarefas, tanto a de regressão quanto a de clusterização. Aqui, usaremos a classificação devido a simplicidade de interpretação do resultadoo. Mais informações sobre os classificadores podem ser encontradas na documentação do sklearn nos links abaixo. \n",
        "\n",
        "*   <a href = https://scikit-learn.org/stable/modules/svm.html> Support Vector Machine (SVM)</a>\n",
        "*   <a href = https://scikit-learn.org/stable/modules/generated/sklearn.ensemble.RandomForestClassifier.html> Random Forest </a>\n",
        "\n",
        "\n",
        "Na segunda etapa, vamos aplicar a técnica de cross validation para o processo de validação dos modelos e, em conjunto, vamos usar os métodos de grid search e random search para otimização dos hiperparâmetros. \n"
      ]
    },
    {
      "cell_type": "markdown",
      "metadata": {
        "id": "_5wwHwTQ8N8v"
      },
      "source": [
        "### *Importando* bibliotecas\n"
      ]
    },
    {
      "cell_type": "code",
      "metadata": {
        "id": "i_5G2bRaHU8i"
      },
      "source": [
        "import pandas as pd #biblioteca para manipulação de dados\n",
        "import numpy as np #biblioteca para utilizacao de vetores e matrizes\n",
        "import matplotlib.pyplot as plt #bibloteca para plotar graficos"
      ],
      "execution_count": null,
      "outputs": []
    },
    {
      "cell_type": "code",
      "metadata": {
        "id": "ufc7rjN0Hbb7",
        "outputId": "5e321f35-baa9-4652-9971-daa355f53d23",
        "colab": {
          "base_uri": "https://localhost:8080/",
          "height": 34
        }
      },
      "source": [
        "#liberando acesso do colab aos arquivos no drive\n",
        "from google.colab import drive\n",
        "drive.mount('/content/gdrive')"
      ],
      "execution_count": null,
      "outputs": [
        {
          "output_type": "stream",
          "text": [
            "Mounted at /content/gdrive\n"
          ],
          "name": "stdout"
        }
      ]
    },
    {
      "cell_type": "markdown",
      "metadata": {
        "id": "L9aBPfZwHjwK"
      },
      "source": [
        "### Carregamento dos dados"
      ]
    },
    {
      "cell_type": "code",
      "metadata": {
        "id": "FTLPdcSaHsIo"
      },
      "source": [
        "#lendo o csv que contem a base de dados e armazanando em um df\n",
        "df = pd.read_csv('/content/gdrive/My Drive/IGTI/Aulas Práticas/diabetes.csv')"
      ],
      "execution_count": null,
      "outputs": []
    },
    {
      "cell_type": "code",
      "metadata": {
        "id": "Yw9wSFNd8N8w",
        "outputId": "1e287ea2-cb8b-410d-c765-397c32343c74",
        "colab": {
          "base_uri": "https://localhost:8080/",
          "height": 204
        }
      },
      "source": [
        "#imprimindo as 5 primeiras linhas do df para confirmação\n",
        "df.head(5)"
      ],
      "execution_count": null,
      "outputs": [
        {
          "output_type": "execute_result",
          "data": {
            "text/html": [
              "<div>\n",
              "<style scoped>\n",
              "    .dataframe tbody tr th:only-of-type {\n",
              "        vertical-align: middle;\n",
              "    }\n",
              "\n",
              "    .dataframe tbody tr th {\n",
              "        vertical-align: top;\n",
              "    }\n",
              "\n",
              "    .dataframe thead th {\n",
              "        text-align: right;\n",
              "    }\n",
              "</style>\n",
              "<table border=\"1\" class=\"dataframe\">\n",
              "  <thead>\n",
              "    <tr style=\"text-align: right;\">\n",
              "      <th></th>\n",
              "      <th>preg</th>\n",
              "      <th>plas</th>\n",
              "      <th>pres</th>\n",
              "      <th>skin</th>\n",
              "      <th>insu</th>\n",
              "      <th>mass</th>\n",
              "      <th>pedi</th>\n",
              "      <th>age</th>\n",
              "      <th>class</th>\n",
              "    </tr>\n",
              "  </thead>\n",
              "  <tbody>\n",
              "    <tr>\n",
              "      <th>0</th>\n",
              "      <td>6</td>\n",
              "      <td>148</td>\n",
              "      <td>72</td>\n",
              "      <td>35</td>\n",
              "      <td>0</td>\n",
              "      <td>33.6</td>\n",
              "      <td>0.627</td>\n",
              "      <td>50</td>\n",
              "      <td>tested_positive</td>\n",
              "    </tr>\n",
              "    <tr>\n",
              "      <th>1</th>\n",
              "      <td>1</td>\n",
              "      <td>85</td>\n",
              "      <td>66</td>\n",
              "      <td>29</td>\n",
              "      <td>0</td>\n",
              "      <td>26.6</td>\n",
              "      <td>0.351</td>\n",
              "      <td>31</td>\n",
              "      <td>tested_negative</td>\n",
              "    </tr>\n",
              "    <tr>\n",
              "      <th>2</th>\n",
              "      <td>8</td>\n",
              "      <td>183</td>\n",
              "      <td>64</td>\n",
              "      <td>0</td>\n",
              "      <td>0</td>\n",
              "      <td>23.3</td>\n",
              "      <td>0.672</td>\n",
              "      <td>32</td>\n",
              "      <td>tested_positive</td>\n",
              "    </tr>\n",
              "    <tr>\n",
              "      <th>3</th>\n",
              "      <td>1</td>\n",
              "      <td>89</td>\n",
              "      <td>66</td>\n",
              "      <td>23</td>\n",
              "      <td>94</td>\n",
              "      <td>28.1</td>\n",
              "      <td>0.167</td>\n",
              "      <td>21</td>\n",
              "      <td>tested_negative</td>\n",
              "    </tr>\n",
              "    <tr>\n",
              "      <th>4</th>\n",
              "      <td>0</td>\n",
              "      <td>137</td>\n",
              "      <td>40</td>\n",
              "      <td>35</td>\n",
              "      <td>168</td>\n",
              "      <td>43.1</td>\n",
              "      <td>2.288</td>\n",
              "      <td>33</td>\n",
              "      <td>tested_positive</td>\n",
              "    </tr>\n",
              "  </tbody>\n",
              "</table>\n",
              "</div>"
            ],
            "text/plain": [
              "   preg  plas  pres  skin  insu  mass   pedi  age            class\n",
              "0     6   148    72    35     0  33.6  0.627   50  tested_positive\n",
              "1     1    85    66    29     0  26.6  0.351   31  tested_negative\n",
              "2     8   183    64     0     0  23.3  0.672   32  tested_positive\n",
              "3     1    89    66    23    94  28.1  0.167   21  tested_negative\n",
              "4     0   137    40    35   168  43.1  2.288   33  tested_positive"
            ]
          },
          "metadata": {
            "tags": []
          },
          "execution_count": 6
        }
      ]
    },
    {
      "cell_type": "markdown",
      "metadata": {
        "id": "cFaZnXnAIonA"
      },
      "source": [
        "*   preg: number of times pregnant\n",
        "*   plas: Plasma glucose concentration a 2 hours in an oral glucose tolerance test\n",
        "*   pres: Diastolic blood pressure (mm Hg)\n",
        "*   skin: Triceps skin fold thickness (mm)\n",
        "*   insu: 2-Hour serum insulin (mu U/ml)\n",
        "*   mass: Body mass index (weight in kg/(height in m)^2)\n",
        "*   pedi: Diabetes pedigree function\n",
        "*   age: Age (years)\n",
        "*   class: Class variable (tested_positive or tested_negative)"
      ]
    },
    {
      "cell_type": "code",
      "metadata": {
        "id": "d_lxVAD-8N86",
        "outputId": "e3b8f395-5d6f-4e84-9716-f13a4da269a8",
        "colab": {
          "base_uri": "https://localhost:8080/",
          "height": 34
        }
      },
      "source": [
        "# Verificando o numero de amostras (linhas) e features (colunas) do dataset. \n",
        "print('Amostras e Features:', df.shape)"
      ],
      "execution_count": null,
      "outputs": [
        {
          "output_type": "stream",
          "text": [
            "Amostras e Features: (768, 9)\n"
          ],
          "name": "stdout"
        }
      ]
    },
    {
      "cell_type": "code",
      "metadata": {
        "id": "MILEATwd8N9A",
        "outputId": "dd33193e-0e8e-477e-867d-d2d34169feb4",
        "colab": {
          "base_uri": "https://localhost:8080/",
          "height": 34
        }
      },
      "source": [
        "# Verificando quais são os tipos das features\n",
        "df.columns"
      ],
      "execution_count": null,
      "outputs": [
        {
          "output_type": "execute_result",
          "data": {
            "text/plain": [
              "Index(['preg', 'plas', 'pres', 'skin', 'insu', 'mass', 'pedi', 'age', 'class'], dtype='object')"
            ]
          },
          "metadata": {
            "tags": []
          },
          "execution_count": 8
        }
      ]
    },
    {
      "cell_type": "markdown",
      "metadata": {
        "id": "b2aq9YGyJ_YN"
      },
      "source": [
        "### Pré processamento"
      ]
    },
    {
      "cell_type": "markdown",
      "metadata": {
        "id": "WD1KwfP08N9E"
      },
      "source": [
        "Nesse problema, o único atributo categórico é a classe. Alguns modelos podem ter dificuldade de lidar com esse atributo. Nesse caso, precisamos transformar os valores de \"tested_negative\" e \"tested_positivo\" para 0 e 1.\n",
        "\n",
        "Para isso, vamos fazer uma função bem simples. "
      ]
    },
    {
      "cell_type": "code",
      "metadata": {
        "id": "RbSaDmfQqdfj",
        "outputId": "354336b8-79fe-454e-c20f-2d8b59815ac7",
        "colab": {
          "base_uri": "https://localhost:8080/",
          "height": 204
        }
      },
      "source": [
        "#criando um dicionario de dados para o mapeamento\n",
        "name_to_class = {\n",
        "    'tested_negative': 0,\n",
        "    'tested_positive': 1\n",
        "}\n",
        "\n",
        "#substituindo os valores categóricos pelo mapeamento\n",
        "df['class'] = df['class'].map(name_to_class)\n",
        "\n",
        "#check\n",
        "df.head(5)"
      ],
      "execution_count": null,
      "outputs": [
        {
          "output_type": "execute_result",
          "data": {
            "text/html": [
              "<div>\n",
              "<style scoped>\n",
              "    .dataframe tbody tr th:only-of-type {\n",
              "        vertical-align: middle;\n",
              "    }\n",
              "\n",
              "    .dataframe tbody tr th {\n",
              "        vertical-align: top;\n",
              "    }\n",
              "\n",
              "    .dataframe thead th {\n",
              "        text-align: right;\n",
              "    }\n",
              "</style>\n",
              "<table border=\"1\" class=\"dataframe\">\n",
              "  <thead>\n",
              "    <tr style=\"text-align: right;\">\n",
              "      <th></th>\n",
              "      <th>preg</th>\n",
              "      <th>plas</th>\n",
              "      <th>pres</th>\n",
              "      <th>skin</th>\n",
              "      <th>insu</th>\n",
              "      <th>mass</th>\n",
              "      <th>pedi</th>\n",
              "      <th>age</th>\n",
              "      <th>class</th>\n",
              "    </tr>\n",
              "  </thead>\n",
              "  <tbody>\n",
              "    <tr>\n",
              "      <th>0</th>\n",
              "      <td>6</td>\n",
              "      <td>148</td>\n",
              "      <td>72</td>\n",
              "      <td>35</td>\n",
              "      <td>0</td>\n",
              "      <td>33.6</td>\n",
              "      <td>0.627</td>\n",
              "      <td>50</td>\n",
              "      <td>1</td>\n",
              "    </tr>\n",
              "    <tr>\n",
              "      <th>1</th>\n",
              "      <td>1</td>\n",
              "      <td>85</td>\n",
              "      <td>66</td>\n",
              "      <td>29</td>\n",
              "      <td>0</td>\n",
              "      <td>26.6</td>\n",
              "      <td>0.351</td>\n",
              "      <td>31</td>\n",
              "      <td>0</td>\n",
              "    </tr>\n",
              "    <tr>\n",
              "      <th>2</th>\n",
              "      <td>8</td>\n",
              "      <td>183</td>\n",
              "      <td>64</td>\n",
              "      <td>0</td>\n",
              "      <td>0</td>\n",
              "      <td>23.3</td>\n",
              "      <td>0.672</td>\n",
              "      <td>32</td>\n",
              "      <td>1</td>\n",
              "    </tr>\n",
              "    <tr>\n",
              "      <th>3</th>\n",
              "      <td>1</td>\n",
              "      <td>89</td>\n",
              "      <td>66</td>\n",
              "      <td>23</td>\n",
              "      <td>94</td>\n",
              "      <td>28.1</td>\n",
              "      <td>0.167</td>\n",
              "      <td>21</td>\n",
              "      <td>0</td>\n",
              "    </tr>\n",
              "    <tr>\n",
              "      <th>4</th>\n",
              "      <td>0</td>\n",
              "      <td>137</td>\n",
              "      <td>40</td>\n",
              "      <td>35</td>\n",
              "      <td>168</td>\n",
              "      <td>43.1</td>\n",
              "      <td>2.288</td>\n",
              "      <td>33</td>\n",
              "      <td>1</td>\n",
              "    </tr>\n",
              "  </tbody>\n",
              "</table>\n",
              "</div>"
            ],
            "text/plain": [
              "   preg  plas  pres  skin  insu  mass   pedi  age  class\n",
              "0     6   148    72    35     0  33.6  0.627   50      1\n",
              "1     1    85    66    29     0  26.6  0.351   31      0\n",
              "2     8   183    64     0     0  23.3  0.672   32      1\n",
              "3     1    89    66    23    94  28.1  0.167   21      0\n",
              "4     0   137    40    35   168  43.1  2.288   33      1"
            ]
          },
          "metadata": {
            "tags": []
          },
          "execution_count": 9
        }
      ]
    },
    {
      "cell_type": "markdown",
      "metadata": {
        "id": "_J94oUYW8N9Q"
      },
      "source": [
        "Uma outra etapa importante do pré-processamento consiste na avaliação de dados faltantes. \n",
        "\n"
      ]
    },
    {
      "cell_type": "code",
      "metadata": {
        "id": "fOQWr4kR8N9R",
        "outputId": "b8702e1a-7654-43cf-b0de-81be1f11d501",
        "colab": {
          "base_uri": "https://localhost:8080/",
          "height": 297
        }
      },
      "source": [
        "# Analisando o resumo da base\n",
        "df.describe()"
      ],
      "execution_count": null,
      "outputs": [
        {
          "output_type": "execute_result",
          "data": {
            "text/html": [
              "<div>\n",
              "<style scoped>\n",
              "    .dataframe tbody tr th:only-of-type {\n",
              "        vertical-align: middle;\n",
              "    }\n",
              "\n",
              "    .dataframe tbody tr th {\n",
              "        vertical-align: top;\n",
              "    }\n",
              "\n",
              "    .dataframe thead th {\n",
              "        text-align: right;\n",
              "    }\n",
              "</style>\n",
              "<table border=\"1\" class=\"dataframe\">\n",
              "  <thead>\n",
              "    <tr style=\"text-align: right;\">\n",
              "      <th></th>\n",
              "      <th>preg</th>\n",
              "      <th>plas</th>\n",
              "      <th>pres</th>\n",
              "      <th>skin</th>\n",
              "      <th>insu</th>\n",
              "      <th>mass</th>\n",
              "      <th>pedi</th>\n",
              "      <th>age</th>\n",
              "      <th>class</th>\n",
              "    </tr>\n",
              "  </thead>\n",
              "  <tbody>\n",
              "    <tr>\n",
              "      <th>count</th>\n",
              "      <td>768.000000</td>\n",
              "      <td>768.000000</td>\n",
              "      <td>768.000000</td>\n",
              "      <td>768.000000</td>\n",
              "      <td>768.000000</td>\n",
              "      <td>768.000000</td>\n",
              "      <td>768.000000</td>\n",
              "      <td>768.000000</td>\n",
              "      <td>768.000000</td>\n",
              "    </tr>\n",
              "    <tr>\n",
              "      <th>mean</th>\n",
              "      <td>3.845052</td>\n",
              "      <td>120.894531</td>\n",
              "      <td>69.105469</td>\n",
              "      <td>20.536458</td>\n",
              "      <td>79.799479</td>\n",
              "      <td>31.992578</td>\n",
              "      <td>0.471876</td>\n",
              "      <td>33.240885</td>\n",
              "      <td>0.348958</td>\n",
              "    </tr>\n",
              "    <tr>\n",
              "      <th>std</th>\n",
              "      <td>3.369578</td>\n",
              "      <td>31.972618</td>\n",
              "      <td>19.355807</td>\n",
              "      <td>15.952218</td>\n",
              "      <td>115.244002</td>\n",
              "      <td>7.884160</td>\n",
              "      <td>0.331329</td>\n",
              "      <td>11.760232</td>\n",
              "      <td>0.476951</td>\n",
              "    </tr>\n",
              "    <tr>\n",
              "      <th>min</th>\n",
              "      <td>0.000000</td>\n",
              "      <td>0.000000</td>\n",
              "      <td>0.000000</td>\n",
              "      <td>0.000000</td>\n",
              "      <td>0.000000</td>\n",
              "      <td>0.000000</td>\n",
              "      <td>0.078000</td>\n",
              "      <td>21.000000</td>\n",
              "      <td>0.000000</td>\n",
              "    </tr>\n",
              "    <tr>\n",
              "      <th>25%</th>\n",
              "      <td>1.000000</td>\n",
              "      <td>99.000000</td>\n",
              "      <td>62.000000</td>\n",
              "      <td>0.000000</td>\n",
              "      <td>0.000000</td>\n",
              "      <td>27.300000</td>\n",
              "      <td>0.243750</td>\n",
              "      <td>24.000000</td>\n",
              "      <td>0.000000</td>\n",
              "    </tr>\n",
              "    <tr>\n",
              "      <th>50%</th>\n",
              "      <td>3.000000</td>\n",
              "      <td>117.000000</td>\n",
              "      <td>72.000000</td>\n",
              "      <td>23.000000</td>\n",
              "      <td>30.500000</td>\n",
              "      <td>32.000000</td>\n",
              "      <td>0.372500</td>\n",
              "      <td>29.000000</td>\n",
              "      <td>0.000000</td>\n",
              "    </tr>\n",
              "    <tr>\n",
              "      <th>75%</th>\n",
              "      <td>6.000000</td>\n",
              "      <td>140.250000</td>\n",
              "      <td>80.000000</td>\n",
              "      <td>32.000000</td>\n",
              "      <td>127.250000</td>\n",
              "      <td>36.600000</td>\n",
              "      <td>0.626250</td>\n",
              "      <td>41.000000</td>\n",
              "      <td>1.000000</td>\n",
              "    </tr>\n",
              "    <tr>\n",
              "      <th>max</th>\n",
              "      <td>17.000000</td>\n",
              "      <td>199.000000</td>\n",
              "      <td>122.000000</td>\n",
              "      <td>99.000000</td>\n",
              "      <td>846.000000</td>\n",
              "      <td>67.100000</td>\n",
              "      <td>2.420000</td>\n",
              "      <td>81.000000</td>\n",
              "      <td>1.000000</td>\n",
              "    </tr>\n",
              "  </tbody>\n",
              "</table>\n",
              "</div>"
            ],
            "text/plain": [
              "             preg        plas        pres  ...        pedi         age       class\n",
              "count  768.000000  768.000000  768.000000  ...  768.000000  768.000000  768.000000\n",
              "mean     3.845052  120.894531   69.105469  ...    0.471876   33.240885    0.348958\n",
              "std      3.369578   31.972618   19.355807  ...    0.331329   11.760232    0.476951\n",
              "min      0.000000    0.000000    0.000000  ...    0.078000   21.000000    0.000000\n",
              "25%      1.000000   99.000000   62.000000  ...    0.243750   24.000000    0.000000\n",
              "50%      3.000000  117.000000   72.000000  ...    0.372500   29.000000    0.000000\n",
              "75%      6.000000  140.250000   80.000000  ...    0.626250   41.000000    1.000000\n",
              "max     17.000000  199.000000  122.000000  ...    2.420000   81.000000    1.000000\n",
              "\n",
              "[8 rows x 9 columns]"
            ]
          },
          "metadata": {
            "tags": []
          },
          "execution_count": 10
        }
      ]
    },
    {
      "cell_type": "markdown",
      "metadata": {
        "id": "-mH3u8WT8N9f"
      },
      "source": [
        "Os modelos implementados no sklearn recebem como entrada para a modelagam um ou mais arrays. Dessa forma, precisamos modificar o df original para que seja possível a modelagem correta. \n",
        "\n",
        "Para isso, vamos separar o label das amotras, armazenar o nome das featues já que os arrays não fazem isso e depois retirar a coluna de labels do df original. Em seguida, vamos converter o df para array usando o numpy!"
      ]
    },
    {
      "cell_type": "code",
      "metadata": {
        "id": "WZ3jLCuEOfbJ"
      },
      "source": [
        "# armazenando os labels em um array\n",
        "labels = np.array(df['class'])\n",
        "\n",
        "# salvando a ordem das features\n",
        "feature_list = list(df.columns)"
      ],
      "execution_count": null,
      "outputs": []
    },
    {
      "cell_type": "code",
      "metadata": {
        "id": "Q5wIxGj68N9g",
        "outputId": "cb5f506b-7a61-412c-d11c-277e5e7c2659",
        "colab": {
          "base_uri": "https://localhost:8080/",
          "height": 34
        }
      },
      "source": [
        "# removendo a coluna de labels do df original\n",
        "df = df.drop('class', axis = 1)\n",
        "\n",
        "# check\n",
        "df.columns"
      ],
      "execution_count": null,
      "outputs": [
        {
          "output_type": "execute_result",
          "data": {
            "text/plain": [
              "Index(['preg', 'plas', 'pres', 'skin', 'insu', 'mass', 'pedi', 'age'], dtype='object')"
            ]
          },
          "metadata": {
            "tags": []
          },
          "execution_count": 12
        }
      ]
    },
    {
      "cell_type": "code",
      "metadata": {
        "id": "H24By9Vf8N9k"
      },
      "source": [
        "# convertendo df para array\n",
        "data = np.array(df)"
      ],
      "execution_count": null,
      "outputs": []
    },
    {
      "cell_type": "markdown",
      "metadata": {
        "id": "WY6_Mcme8N9o"
      },
      "source": [
        "Agora estamos quase prontos para a modelagem em si!"
      ]
    },
    {
      "cell_type": "markdown",
      "metadata": {
        "id": "H6NV8W5TEoK-"
      },
      "source": [
        "Vamos usar a função <a href = http://scikit-learn.org/stable/modules/generated/sklearn.model_selection.train_test_split.html> train_test_split </a> e olhar para para algumas combinações de parâmetros dos modelos que selecionamos. "
      ]
    },
    {
      "cell_type": "code",
      "metadata": {
        "id": "Ews_1IMu8N9p"
      },
      "source": [
        "# importar train_test_split do scikitlearn \n",
        "from sklearn.model_selection import train_test_split\n",
        "\n",
        "# aplicando a funcao train_test_split para separar os conjuntos de treino e \n",
        "# teste segundo uma porcentagem de separação definida. \n",
        "train_data, test_data, train_labels, test_labels = train_test_split(data, labels, test_size = 0.25, random_state = 42)"
      ],
      "execution_count": null,
      "outputs": []
    },
    {
      "cell_type": "markdown",
      "metadata": {
        "id": "aJXB1tN4ZSOI"
      },
      "source": [
        "# Support Vector Machine SVM"
      ]
    },
    {
      "cell_type": "markdown",
      "metadata": {
        "id": "mjfmk5HkZgjj"
      },
      "source": [
        "Vamos dar uma olhada agora no comportamento do SVM"
      ]
    },
    {
      "cell_type": "code",
      "metadata": {
        "id": "DrVJVyyyHkpu"
      },
      "source": [
        "#importar o modelo SVM\n",
        "from sklearn.svm import SVC"
      ],
      "execution_count": null,
      "outputs": []
    },
    {
      "cell_type": "code",
      "metadata": {
        "id": "vE-1qSaUZsA9"
      },
      "source": [
        "# treinando o SVM com kernel RBF\n",
        "classifier1 = SVC(kernel='rbf').fit(train_data,train_labels)\n",
        "\n",
        "# aplicando o modelo treinado \n",
        "predictions1_labels = classifier1.predict(test_data)\n",
        "\n",
        "# Exibindo dataframe com valores 10 reais e suas respectivas previsões\n",
        "#p = pd.DataFrame({'Real': test_labels, 'Previsto': predictions1_labels})  \n",
        "#p.head(10)"
      ],
      "execution_count": null,
      "outputs": []
    },
    {
      "cell_type": "code",
      "metadata": {
        "id": "sAkezhEKZrwC",
        "outputId": "33070824-7eae-42ca-bfea-1c2efaf3d82e",
        "colab": {
          "base_uri": "https://localhost:8080/",
          "height": 221
        }
      },
      "source": [
        "#avaliando o modelo \n",
        "from sklearn import metrics\n",
        " \n",
        "print('Matriz de Confusão\\n', metrics.confusion_matrix(test_labels, predictions1_labels)) \n",
        "print('\\nAcurácia\\n', metrics.accuracy_score(test_labels, predictions1_labels)) \n",
        "print('\\nF1\\n', metrics.f1_score(test_labels, predictions1_labels)) \n",
        "print('\\nAUCROC\\n', metrics.roc_auc_score(test_labels, predictions1_labels))"
      ],
      "execution_count": null,
      "outputs": [
        {
          "output_type": "stream",
          "text": [
            "Matriz de Confusão\n",
            " [[106  17]\n",
            " [ 35  34]]\n",
            "\n",
            "Acurácia\n",
            " 0.7291666666666666\n",
            "\n",
            "F1\n",
            " 0.5666666666666667\n",
            "\n",
            "AUCROC\n",
            " 0.6772711205372923\n"
          ],
          "name": "stdout"
        }
      ]
    },
    {
      "cell_type": "markdown",
      "metadata": {
        "id": "tWz5vVEkiQr2"
      },
      "source": [
        "Vamos tentar melhorar o SVM? \n",
        "\n",
        "Vamos trocar o kernel gaussiano pelo sigmoidal"
      ]
    },
    {
      "cell_type": "code",
      "metadata": {
        "id": "IFGJLVR0iPtf"
      },
      "source": [
        "# treinando o SVM com kernel sigmoidal\n",
        "classifier2 = SVC(kernel='sigmoid').fit(train_data,train_labels)\n",
        "\n",
        "# aplicando o modelo treinado \n",
        "predictions2_labels = classifier2.predict(test_data)\n",
        "\n",
        "# Exibindo dataframe com valores 10 reais e suas respectivas previsões\n",
        "#p = pd.DataFrame({'Real': test_labels, 'Previsto': predictions2_labels})  \n",
        "#p.head(10)"
      ],
      "execution_count": null,
      "outputs": []
    },
    {
      "cell_type": "code",
      "metadata": {
        "id": "KztC8v1gK3bw",
        "outputId": "843c3820-085d-4373-bd30-f76e834f4105",
        "colab": {
          "base_uri": "https://localhost:8080/",
          "height": 221
        }
      },
      "source": [
        "#avaliando o modelo \n",
        "from sklearn import metrics\n",
        " \n",
        "print('Matriz de Confusão\\n', metrics.confusion_matrix(test_labels, predictions2_labels)) \n",
        "print('\\nAcurácia\\n', metrics.accuracy_score(test_labels, predictions2_labels)) \n",
        "print('\\nF1\\n', metrics.f1_score(test_labels, predictions2_labels)) \n",
        "print('\\nAUCROC\\n', metrics.roc_auc_score(test_labels, predictions2_labels))"
      ],
      "execution_count": null,
      "outputs": [
        {
          "output_type": "stream",
          "text": [
            "Matriz de Confusão\n",
            " [[94 29]\n",
            " [57 12]]\n",
            "\n",
            "Acurácia\n",
            " 0.5520833333333334\n",
            "\n",
            "F1\n",
            " 0.21818181818181817\n",
            "\n",
            "AUCROC\n",
            " 0.46907034287734173\n"
          ],
          "name": "stdout"
        }
      ]
    },
    {
      "cell_type": "markdown",
      "metadata": {
        "id": "Tq5tDt1ELoLd"
      },
      "source": [
        "Vamos tentar outra opção!\n"
      ]
    },
    {
      "cell_type": "code",
      "metadata": {
        "id": "0suFkLRwLp0U"
      },
      "source": [
        "# treinando o SVM com kernel rbf, com largura da gaussiana alterada\n",
        "classifier3 = SVC(kernel='rbf', gamma = 'auto').fit(train_data,train_labels)\n",
        "\n",
        "# aplicando o modelo treinado \n",
        "predictions3_labels = classifier3.predict(test_data)\n",
        "\n",
        "# Exibindo dataframe com valores 10 reais e suas respectivas previsões\n",
        "#p = pd.DataFrame({'Real': test_labels, 'Previsto': predictions3_labels})  \n",
        "#p.head(10)"
      ],
      "execution_count": null,
      "outputs": []
    },
    {
      "cell_type": "code",
      "metadata": {
        "id": "k17XbSuZMB5Y",
        "outputId": "2346426b-2f87-4a24-ad51-d7f5fc90b2ec",
        "colab": {
          "base_uri": "https://localhost:8080/",
          "height": 221
        }
      },
      "source": [
        "#avaliando o modelo \n",
        "from sklearn import metrics\n",
        " \n",
        "print('Matriz de Confusão\\n', metrics.confusion_matrix(test_labels, predictions3_labels)) \n",
        "print('\\nAcurácia\\n', metrics.accuracy_score(test_labels, predictions3_labels)) \n",
        "print('\\nF1\\n', metrics.f1_score(test_labels, predictions3_labels)) \n",
        "print('\\nAUCROC\\n', metrics.roc_auc_score(test_labels, predictions3_labels))"
      ],
      "execution_count": null,
      "outputs": [
        {
          "output_type": "stream",
          "text": [
            "Matriz de Confusão\n",
            " [[123   0]\n",
            " [ 69   0]]\n",
            "\n",
            "Acurácia\n",
            " 0.640625\n",
            "\n",
            "F1\n",
            " 0.0\n",
            "\n",
            "AUCROC\n",
            " 0.5\n"
          ],
          "name": "stdout"
        }
      ]
    },
    {
      "cell_type": "markdown",
      "metadata": {
        "id": "-BBq6LoyMohI"
      },
      "source": [
        "Ultimo teste!"
      ]
    },
    {
      "cell_type": "code",
      "metadata": {
        "id": "gowGff9xMnSq"
      },
      "source": [
        "# treinando o SVM com kernel rbf, com largura da gaussiana alterada\n",
        "classifier4 = SVC(C = 0.1, kernel='rbf', gamma = 0.0001).fit(train_data,train_labels)\n",
        "\n",
        "# aplicando o modelo treinado \n",
        "predictions4_labels = classifier4.predict(test_data)\n",
        "\n",
        "# Exibindo dataframe com valores 10 reais e suas respectivas previsões\n",
        "#p = pd.DataFrame({'Real': test_labels, 'Previsto': predictions4_labels})  \n",
        "#p.head(10)"
      ],
      "execution_count": null,
      "outputs": []
    },
    {
      "cell_type": "code",
      "metadata": {
        "id": "ve_S6vEqMn-H",
        "outputId": "608d2108-3080-466e-9b9d-d6101a1e8b85",
        "colab": {
          "base_uri": "https://localhost:8080/",
          "height": 221
        }
      },
      "source": [
        "#avaliando o modelo \n",
        "from sklearn import metrics\n",
        " \n",
        "print('Matriz de Confusão\\n', metrics.confusion_matrix(test_labels, predictions4_labels)) \n",
        "print('\\nAcurácia\\n', metrics.accuracy_score(test_labels, predictions4_labels)) \n",
        "print('\\nF1\\n', metrics.f1_score(test_labels, predictions4_labels)) \n",
        "print('\\nAUCROC\\n', metrics.roc_auc_score(test_labels, predictions4_labels))"
      ],
      "execution_count": null,
      "outputs": [
        {
          "output_type": "stream",
          "text": [
            "Matriz de Confusão\n",
            " [[112  11]\n",
            " [ 43  26]]\n",
            "\n",
            "Acurácia\n",
            " 0.71875\n",
            "\n",
            "F1\n",
            " 0.49056603773584906\n",
            "\n",
            "AUCROC\n",
            " 0.6436903499469776\n"
          ],
          "name": "stdout"
        }
      ]
    },
    {
      "cell_type": "markdown",
      "metadata": {
        "id": "MglFMlLLbggA"
      },
      "source": [
        "# Random Forest Classifiers\n"
      ]
    },
    {
      "cell_type": "markdown",
      "metadata": {
        "id": "0qjPEqNfbmtk"
      },
      "source": [
        "Vamos agora modelar o nosso problema utilizando o Random Forest Classifier e testar algumas combinações de hiperparâmetros!"
      ]
    },
    {
      "cell_type": "code",
      "metadata": {
        "id": "7LrKgJhb8N-K"
      },
      "source": [
        "# importar o modelo Random Forest Regressor\n",
        "from sklearn.ensemble import RandomForestClassifier\n",
        "\n",
        "# treinando o modelo \n",
        "classifier5 = RandomForestClassifier(n_estimators= 10, random_state=42).fit(train_data, train_labels);\n",
        "\n",
        "# aplicando o modelo treinado para a previsão do resultado do teste\n",
        "predictions5_labels = classifier5.predict(test_data)\n",
        "\n",
        "# Exibindo dataframe com valores 10 reais e suas respectivas previsões\n",
        "#p = pd.DataFrame({'Real': test_labels, 'Previsto': predictions5_labels})  \n",
        "#p.head(10)"
      ],
      "execution_count": null,
      "outputs": []
    },
    {
      "cell_type": "code",
      "metadata": {
        "id": "j3XYU8C_clmb",
        "outputId": "b49c3566-72e2-4cdd-e54f-59747b7b5849",
        "colab": {
          "base_uri": "https://localhost:8080/",
          "height": 221
        }
      },
      "source": [
        "#avaliando o modelo\n",
        "print('Matriz de Confusão\\n', metrics.confusion_matrix(test_labels, predictions5_labels)) \n",
        "print('\\nAcurácia\\n', metrics.accuracy_score(test_labels, predictions5_labels)) \n",
        "print('\\nF1\\n', metrics.f1_score(test_labels, predictions5_labels)) \n",
        "print('\\nAUCROC\\n', metrics.roc_auc_score(test_labels, predictions5_labels))"
      ],
      "execution_count": null,
      "outputs": [
        {
          "output_type": "stream",
          "text": [
            "Matriz de Confusão\n",
            " [[97 26]\n",
            " [24 45]]\n",
            "\n",
            "Acurácia\n",
            " 0.7395833333333334\n",
            "\n",
            "F1\n",
            " 0.6428571428571428\n",
            "\n",
            "AUCROC\n",
            " 0.72039589961117\n"
          ],
          "name": "stdout"
        }
      ]
    },
    {
      "cell_type": "markdown",
      "metadata": {
        "id": "Ekq770pckaJp"
      },
      "source": [
        "Eita...\n",
        "\n",
        "Será que o nosso resultado pode ser melhor?\n",
        "\n",
        "Vamos trocar random_state e dar uma olhada em como a característica aleatoria do RF influencia no resultado.\n"
      ]
    },
    {
      "cell_type": "code",
      "metadata": {
        "id": "MPTJfZhWO5y_"
      },
      "source": [
        "# treinando o modelo \n",
        "classifier6 = RandomForestClassifier(n_estimators= 10, random_state = 124).fit(train_data, train_labels);\n",
        "\n",
        "# aplicando o modelo treinado para a previsão do resultado do teste\n",
        "predictions6_labels = classifier6.predict(test_data)\n",
        "\n",
        "# Exibindo dataframe com valores 10 reais e suas respectivas previsões\n",
        "#p = pd.DataFrame({'Real': test_labels, 'Previsto': predictions5_labels})  \n",
        "#p.head(10)"
      ],
      "execution_count": null,
      "outputs": []
    },
    {
      "cell_type": "code",
      "metadata": {
        "id": "YbXqAfkQO6ey",
        "outputId": "b07368cb-c0aa-436b-c3cf-0cd1ec7c6d13",
        "colab": {
          "base_uri": "https://localhost:8080/",
          "height": 221
        }
      },
      "source": [
        "#avaliando o modelo\n",
        "print('Matriz de Confusão\\n', metrics.confusion_matrix(test_labels, predictions6_labels)) \n",
        "print('\\nAcurácia\\n', metrics.accuracy_score(test_labels, predictions6_labels)) \n",
        "print('\\nF1\\n', metrics.f1_score(test_labels, predictions6_labels)) \n",
        "print('\\nAUCROC\\n', metrics.roc_auc_score(test_labels, predictions6_labels))"
      ],
      "execution_count": null,
      "outputs": [
        {
          "output_type": "stream",
          "text": [
            "Matriz de Confusão\n",
            " [[100  23]\n",
            " [ 24  45]]\n",
            "\n",
            "Acurácia\n",
            " 0.7552083333333334\n",
            "\n",
            "F1\n",
            " 0.656934306569343\n",
            "\n",
            "AUCROC\n",
            " 0.7325910215623894\n"
          ],
          "name": "stdout"
        }
      ]
    },
    {
      "cell_type": "markdown",
      "metadata": {
        "id": "WGQzaFCDPsJj"
      },
      "source": [
        "Vamos tentar aumentar o número de estimadores"
      ]
    },
    {
      "cell_type": "code",
      "metadata": {
        "id": "lNDOisoRO6HA"
      },
      "source": [
        "# treinando o modelo \n",
        "classifier7 = RandomForestClassifier(n_estimators= 100, random_state = 42).fit(train_data, train_labels);\n",
        "\n",
        "# aplicando o modelo treinado para a previsão do resultado do teste\n",
        "predictions7_labels = classifier7.predict(test_data)\n",
        "\n",
        "# Exibindo dataframe com valores 10 reais e suas respectivas previsões\n",
        "#p = pd.DataFrame({'Real': test_labels, 'Previsto': predictions5_labels})  \n",
        "#p.head(10)"
      ],
      "execution_count": null,
      "outputs": []
    },
    {
      "cell_type": "code",
      "metadata": {
        "id": "zFjK6sqUPz7_",
        "outputId": "691e37f6-89e0-4522-a9f2-f220edad49f2",
        "colab": {
          "base_uri": "https://localhost:8080/",
          "height": 221
        }
      },
      "source": [
        "#avaliando o modelo\n",
        "print('Matriz de Confusão\\n', metrics.confusion_matrix(test_labels, predictions7_labels)) \n",
        "print('\\nAcurácia\\n', metrics.accuracy_score(test_labels, predictions7_labels)) \n",
        "print('\\nF1\\n', metrics.f1_score(test_labels, predictions7_labels)) \n",
        "print('\\nAUCROC\\n', metrics.roc_auc_score(test_labels, predictions7_labels))"
      ],
      "execution_count": null,
      "outputs": [
        {
          "output_type": "stream",
          "text": [
            "Matriz de Confusão\n",
            " [[96 27]\n",
            " [24 45]]\n",
            "\n",
            "Acurácia\n",
            " 0.734375\n",
            "\n",
            "F1\n",
            " 0.6382978723404256\n",
            "\n",
            "AUCROC\n",
            " 0.7163308589607635\n"
          ],
          "name": "stdout"
        }
      ]
    },
    {
      "cell_type": "code",
      "metadata": {
        "id": "u-t3S6vnQ0Y5"
      },
      "source": [
        "# importar o modelo Random Forest Regressor\n",
        "from sklearn.ensemble import RandomForestClassifier\n",
        "\n",
        "# treinando o modelo \n",
        "classifier8 = RandomForestClassifier(n_estimators= 100, bootstrap = False, random_state = 42).fit(train_data, train_labels);\n",
        "\n",
        "# aplicando o modelo treinado para a previsão do resultado do teste\n",
        "predictions8_labels = classifier8.predict(test_data)\n",
        "\n",
        "# Exibindo dataframe com valores 10 reais e suas respectivas previsões\n",
        "#p = pd.DataFrame({'Real': test_labels, 'Previsto': predictions8_labels})  \n",
        "#p.head(10)"
      ],
      "execution_count": null,
      "outputs": []
    },
    {
      "cell_type": "code",
      "metadata": {
        "id": "_XCr38HTQ0Lk",
        "outputId": "a8ec90b1-3d13-40e9-ce0a-3e422d1c48e6",
        "colab": {
          "base_uri": "https://localhost:8080/",
          "height": 221
        }
      },
      "source": [
        "#avaliando o modelo\n",
        "print('Matriz de Confusão\\n', metrics.confusion_matrix(test_labels, predictions8_labels)) \n",
        "print('\\nAcurácia\\n', metrics.accuracy_score(test_labels, predictions8_labels)) \n",
        "print('\\nF1\\n', metrics.f1_score(test_labels, predictions8_labels)) \n",
        "print('\\nAUCROC\\n', metrics.roc_auc_score(test_labels, predictions8_labels))"
      ],
      "execution_count": null,
      "outputs": [
        {
          "output_type": "stream",
          "text": [
            "Matriz de Confusão\n",
            " [[93 30]\n",
            " [24 45]]\n",
            "\n",
            "Acurácia\n",
            " 0.71875\n",
            "\n",
            "F1\n",
            " 0.6250000000000001\n",
            "\n",
            "AUCROC\n",
            " 0.704135737009544\n"
          ],
          "name": "stdout"
        }
      ]
    },
    {
      "cell_type": "markdown",
      "metadata": {
        "id": "nMa0OirHRQEP"
      },
      "source": [
        "#### Qual seria o custo, isto é, qual o tempo que nós perdiaríamos ao ter que calibrar manualmente, de forma aleatória ou sistemática, todos os modelos que criamos? "
      ]
    },
    {
      "cell_type": "markdown",
      "metadata": {
        "id": "BgGaKiriRsAp"
      },
      "source": [
        "Só não!"
      ]
    },
    {
      "cell_type": "markdown",
      "metadata": {
        "id": "W9S7bf6lVX7P"
      },
      "source": [
        "Vamos dar uma olhada em como funciona o Random Search e o Grid Search aplicados? SIIIIIIIIIIIM\n",
        "\n",
        "Vamos aproveitar para usar a validação cruzada estratificada!"
      ]
    },
    {
      "cell_type": "markdown",
      "metadata": {
        "id": "LZUeHPfmWYQZ"
      },
      "source": [
        "O sklearn tem funções de Grid Search e Random Search implementadas que já fazem o processo de validação cruzada do modelo. \n",
        "Mais informações sobre esses métodos podem ser encontradas nos links abaixo!\n",
        "\n",
        "*   <a href = https://scikit-learn.org/stable/modules/generated/sklearn.model_selection.GridSearchCV.html#sklearn.model_selection.GridSearchCV> Grid Search CV </a>\n",
        "*   <a href = https://scikit-learn.org/stable/modules/generated/sklearn.model_selection.RandomizedSearchCV.html#sklearn.model_selection.RandomizedSearchCV> Random Search CV</a>\n",
        "\n",
        "Vamos testa-las?"
      ]
    },
    {
      "cell_type": "markdown",
      "metadata": {
        "id": "2WkgpCp6tUxb"
      },
      "source": [
        "## Grid Search"
      ]
    },
    {
      "cell_type": "markdown",
      "metadata": {
        "id": "nPf2ao0znG0m"
      },
      "source": [
        "\n",
        "\n",
        "**Vamos testar o Grid Search com kfold estratificado e o SVM**"
      ]
    },
    {
      "cell_type": "code",
      "metadata": {
        "id": "Qjo7iOM4RuRR"
      },
      "source": [
        "from sklearn.model_selection import StratifiedKFold\n",
        "from sklearn.model_selection import GridSearchCV\n",
        "from sklearn.metrics import f1_score, make_scorer"
      ],
      "execution_count": null,
      "outputs": []
    },
    {
      "cell_type": "code",
      "metadata": {
        "id": "rPq4NQAYR3d5",
        "outputId": "3cd9d59a-d016-4cc3-c39f-f9bcdfda7244",
        "colab": {
          "base_uri": "https://localhost:8080/",
          "height": 221
        }
      },
      "source": [
        "#definindo hiperparâmetros\n",
        "hiperparam = {'kernel':('sigmoid', 'rbf'), 'C':[0.01, 1, 10]}\n",
        "\n",
        "#definindo o tipo de validacao cruzada e o numero de folds\n",
        "cv_strat = StratifiedKFold(n_splits = 10)\n",
        "\n",
        "#instânciando meu classificador\n",
        "classifier = SVC()\n",
        "\n",
        "#definindo a estrategia de score a partir da metrica f1\n",
        "f1 = make_scorer(f1_score)\n",
        "\n",
        "#instanciando e modelando o grid search com os hiperparametros e a validação definidas.\n",
        "grid_cv = GridSearchCV(classifier, hiperparam, cv = cv_strat, scoring = f1)\n",
        "grid_cv.fit(data, labels)"
      ],
      "execution_count": null,
      "outputs": [
        {
          "output_type": "execute_result",
          "data": {
            "text/plain": [
              "GridSearchCV(cv=StratifiedKFold(n_splits=10, random_state=None, shuffle=False),\n",
              "             error_score=nan,\n",
              "             estimator=SVC(C=1.0, break_ties=False, cache_size=200,\n",
              "                           class_weight=None, coef0=0.0,\n",
              "                           decision_function_shape='ovr', degree=3,\n",
              "                           gamma='scale', kernel='rbf', max_iter=-1,\n",
              "                           probability=False, random_state=None, shrinking=True,\n",
              "                           tol=0.001, verbose=False),\n",
              "             iid='deprecated', n_jobs=None,\n",
              "             param_grid={'C': [0.01, 1, 10], 'kernel': ('sigmoid', 'rbf')},\n",
              "             pre_dispatch='2*n_jobs', refit=True, return_train_score=False,\n",
              "             scoring=make_scorer(f1_score), verbose=0)"
            ]
          },
          "metadata": {
            "tags": []
          },
          "execution_count": 35
        }
      ]
    },
    {
      "cell_type": "code",
      "metadata": {
        "id": "vTuYEghvn4RZ",
        "outputId": "60575070-f487-4444-f7ed-1c939089e484",
        "colab": {
          "base_uri": "https://localhost:8080/",
          "height": 462
        }
      },
      "source": [
        "#vamos olhar para todos os resultados encontrados!\n",
        "print('Resumo de todos os resultados encontrados:\\n\\n', grid_cv.cv_results_)\n"
      ],
      "execution_count": null,
      "outputs": [
        {
          "output_type": "stream",
          "text": [
            "Resumo de todos os resultados encontrados:\n",
            "\n",
            " {'mean_fit_time': array([0.0191453 , 0.013727  , 0.0178344 , 0.01250031, 0.01576278,\n",
            "       0.01356816]), 'std_fit_time': array([0.00183103, 0.00014857, 0.00144413, 0.00023715, 0.0002577 ,\n",
            "       0.00026186]), 'mean_score_time': array([0.00280688, 0.00206256, 0.00255613, 0.0019124 , 0.0023629 ,\n",
            "       0.00181339]), 'std_score_time': array([2.31627336e-04, 3.79626470e-05, 5.91411499e-05, 6.01786441e-05,\n",
            "       3.36734572e-05, 5.74566467e-05]), 'param_C': masked_array(data=[0.01, 0.01, 1, 1, 10, 10],\n",
            "             mask=[False, False, False, False, False, False],\n",
            "       fill_value='?',\n",
            "            dtype=object), 'param_kernel': masked_array(data=['sigmoid', 'rbf', 'sigmoid', 'rbf', 'sigmoid', 'rbf'],\n",
            "             mask=[False, False, False, False, False, False],\n",
            "       fill_value='?',\n",
            "            dtype=object), 'params': [{'C': 0.01, 'kernel': 'sigmoid'}, {'C': 0.01, 'kernel': 'rbf'}, {'C': 1, 'kernel': 'sigmoid'}, {'C': 1, 'kernel': 'rbf'}, {'C': 10, 'kernel': 'sigmoid'}, {'C': 10, 'kernel': 'rbf'}], 'split0_test_score': array([0.        , 0.        , 0.1       , 0.56521739, 0.17777778,\n",
            "       0.58823529]), 'split1_test_score': array([0.        , 0.        , 0.17777778, 0.47368421, 0.32142857,\n",
            "       0.60465116]), 'split2_test_score': array([0.        , 0.        , 0.13333333, 0.58333333, 0.11320755,\n",
            "       0.57142857]), 'split3_test_score': array([0.        , 0.        , 0.18181818, 0.54166667, 0.28070175,\n",
            "       0.58823529]), 'split4_test_score': array([0.        , 0.        , 0.11111111, 0.43243243, 0.16949153,\n",
            "       0.47368421]), 'split5_test_score': array([0.        , 0.        , 0.04444444, 0.65116279, 0.11111111,\n",
            "       0.68085106]), 'split6_test_score': array([0.        , 0.        , 0.2173913 , 0.57777778, 0.32142857,\n",
            "       0.66666667]), 'split7_test_score': array([0.        , 0.        , 0.08695652, 0.68085106, 0.0754717 ,\n",
            "       0.68085106]), 'split8_test_score': array([0.        , 0.        , 0.13636364, 0.59090909, 0.25454545,\n",
            "       0.56521739]), 'split9_test_score': array([0.        , 0.        , 0.05882353, 0.61904762, 0.18181818,\n",
            "       0.66666667]), 'mean_test_score': array([0.        , 0.        , 0.12480198, 0.57160824, 0.20069822,\n",
            "       0.60864874]), 'std_test_score': array([0.        , 0.        , 0.05280328, 0.07138476, 0.08465786,\n",
            "       0.06284501]), 'rank_test_score': array([5, 5, 4, 2, 3, 1], dtype=int32)}\n"
          ],
          "name": "stdout"
        }
      ]
    },
    {
      "cell_type": "code",
      "metadata": {
        "id": "kcNqg-P8VTRm",
        "outputId": "56886e30-5e2d-4b24-d529-0e276df44c9d",
        "colab": {
          "base_uri": "https://localhost:8080/",
          "height": 204
        }
      },
      "source": [
        "#vamos olhar para os melhores resultados encontrados pelo Grid Search\n",
        "print('Melhor resultado f1:', grid_cv.best_score_)\n",
        "print('\\n\\nMelhor configuração de hiperparâmetros:', grid_cv.best_params_)\n",
        "\n",
        "print( '\\n\\nConfigurações de todos os hiperparâmetros do melhor estimado encontrado pelo GridSearch: \\n', grid_cv.best_estimator_)"
      ],
      "execution_count": null,
      "outputs": [
        {
          "output_type": "stream",
          "text": [
            "Melhor resultado f1: 0.6086487385278134\n",
            "\n",
            "\n",
            "Melhor configuração de hiperparâmetros: {'C': 10, 'kernel': 'rbf'}\n",
            "\n",
            "\n",
            "Configurações de todos os hiperparâmetros do melhor estimado encontrado pelo GridSearch: \n",
            " SVC(C=10, break_ties=False, cache_size=200, class_weight=None, coef0=0.0,\n",
            "    decision_function_shape='ovr', degree=3, gamma='scale', kernel='rbf',\n",
            "    max_iter=-1, probability=False, random_state=None, shrinking=True,\n",
            "    tol=0.001, verbose=False)\n"
          ],
          "name": "stdout"
        }
      ]
    },
    {
      "cell_type": "markdown",
      "metadata": {
        "id": "sKPHz1P2oIGi"
      },
      "source": [
        "**Vamos agora repetir o processo para o Random Forest**\n"
      ]
    },
    {
      "cell_type": "code",
      "metadata": {
        "id": "iY7-CyXAnDqZ",
        "outputId": "12f966db-b3ee-43b9-f122-a6893aa1efe7",
        "colab": {
          "base_uri": "https://localhost:8080/",
          "height": 391
        }
      },
      "source": [
        "#definindo hiperparâmetros\n",
        "#hiperparam1 = {'n_estimators':[10, 100, 1000]}\n",
        "hiperparam1 = {'n_estimators':[10, 100, 1000], 'bootstrap': (True, False)}\n",
        "#hiperparam1 = {'n_estimators':[10, 100, 1000], 'bootstrap': (True, False), 'criterion': ('gini', 'entropy')}\n",
        "\n",
        "#instânciando meu classificador\n",
        "classifier1 = RandomForestClassifier()\n",
        "\n",
        "#instanciando e modelando o grid search com os hiperparametros e a validação definidas.\n",
        "grid_cv1 = GridSearchCV(classifier1, hiperparam1, cv = cv_strat, scoring = f1)\n",
        "grid_cv1.fit(data, labels)"
      ],
      "execution_count": null,
      "outputs": [
        {
          "output_type": "execute_result",
          "data": {
            "text/plain": [
              "GridSearchCV(cv=StratifiedKFold(n_splits=10, random_state=None, shuffle=False),\n",
              "             error_score=nan,\n",
              "             estimator=RandomForestClassifier(bootstrap=True, ccp_alpha=0.0,\n",
              "                                              class_weight=None,\n",
              "                                              criterion='gini', max_depth=None,\n",
              "                                              max_features='auto',\n",
              "                                              max_leaf_nodes=None,\n",
              "                                              max_samples=None,\n",
              "                                              min_impurity_decrease=0.0,\n",
              "                                              min_impurity_split=None,\n",
              "                                              min_samples_leaf=1,\n",
              "                                              min_samples_split=2,\n",
              "                                              min_weight_fraction_leaf=0.0,\n",
              "                                              n_estimators=100, n_jobs=None,\n",
              "                                              oob_score=False,\n",
              "                                              random_state=None, verbose=0,\n",
              "                                              warm_start=False),\n",
              "             iid='deprecated', n_jobs=None,\n",
              "             param_grid={'bootstrap': (True, False),\n",
              "                         'n_estimators': [10, 100, 1000]},\n",
              "             pre_dispatch='2*n_jobs', refit=True, return_train_score=False,\n",
              "             scoring=make_scorer(f1_score), verbose=0)"
            ]
          },
          "metadata": {
            "tags": []
          },
          "execution_count": 38
        }
      ]
    },
    {
      "cell_type": "code",
      "metadata": {
        "id": "rC4zChqenEs_",
        "outputId": "18c4eb14-11a9-481f-95f7-514333118d89",
        "colab": {
          "base_uri": "https://localhost:8080/",
          "height": 462
        }
      },
      "source": [
        "#vamos olhar para todos os resultados encontrados!\n",
        "print('Resumo de todos os resultados encontrados:\\n\\n', grid_cv1.cv_results_)\n"
      ],
      "execution_count": null,
      "outputs": [
        {
          "output_type": "stream",
          "text": [
            "Resumo de todos os resultados encontrados:\n",
            "\n",
            " {'mean_fit_time': array([0.01853487, 0.17270694, 1.71469889, 0.01741304, 0.17289336,\n",
            "       1.70442684]), 'std_fit_time': array([0.00185496, 0.00702791, 0.02143742, 0.00023345, 0.00455266,\n",
            "       0.02107268]), 'mean_score_time': array([0.00192161, 0.00862629, 0.07558253, 0.00195091, 0.00886204,\n",
            "       0.07807531]), 'std_score_time': array([7.83636426e-05, 2.32138268e-04, 1.30770174e-03, 2.82513542e-05,\n",
            "       1.94076691e-04, 2.49934865e-03]), 'param_bootstrap': masked_array(data=[True, True, True, False, False, False],\n",
            "             mask=[False, False, False, False, False, False],\n",
            "       fill_value='?',\n",
            "            dtype=object), 'param_n_estimators': masked_array(data=[10, 100, 1000, 10, 100, 1000],\n",
            "             mask=[False, False, False, False, False, False],\n",
            "       fill_value='?',\n",
            "            dtype=object), 'params': [{'bootstrap': True, 'n_estimators': 10}, {'bootstrap': True, 'n_estimators': 100}, {'bootstrap': True, 'n_estimators': 1000}, {'bootstrap': False, 'n_estimators': 10}, {'bootstrap': False, 'n_estimators': 100}, {'bootstrap': False, 'n_estimators': 1000}], 'split0_test_score': array([0.55172414, 0.60714286, 0.60714286, 0.56603774, 0.60714286,\n",
            "       0.62068966]), 'split1_test_score': array([0.63636364, 0.63829787, 0.63829787, 0.65116279, 0.69387755,\n",
            "       0.68      ]), 'split2_test_score': array([0.48979592, 0.65306122, 0.64      , 0.53061224, 0.57692308,\n",
            "       0.56603774]), 'split3_test_score': array([0.60714286, 0.54545455, 0.54545455, 0.52830189, 0.54545455,\n",
            "       0.51851852]), 'split4_test_score': array([0.57142857, 0.46153846, 0.45      , 0.41860465, 0.48888889,\n",
            "       0.55813953]), 'split5_test_score': array([0.51282051, 0.69090909, 0.64      , 0.63829787, 0.73469388,\n",
            "       0.72      ]), 'split6_test_score': array([0.57777778, 0.70588235, 0.70833333, 0.42857143, 0.65217391,\n",
            "       0.68085106]), 'split7_test_score': array([0.65217391, 0.73469388, 0.76      , 0.48780488, 0.76      ,\n",
            "       0.76      ]), 'split8_test_score': array([0.42857143, 0.54545455, 0.52173913, 0.57777778, 0.48888889,\n",
            "       0.5106383 ]), 'split9_test_score': array([0.62222222, 0.73469388, 0.73469388, 0.66666667, 0.69387755,\n",
            "       0.68      ]), 'mean_test_score': array([0.5650021 , 0.63171287, 0.62456616, 0.54938379, 0.62419211,\n",
            "       0.62948748]), 'std_test_score': array([0.06716727, 0.08669406, 0.0926074 , 0.08330133, 0.09299897,\n",
            "       0.08282531]), 'rank_test_score': array([5, 1, 3, 6, 4, 2], dtype=int32)}\n"
          ],
          "name": "stdout"
        }
      ]
    },
    {
      "cell_type": "code",
      "metadata": {
        "id": "Y-WBpC1anEEG",
        "outputId": "299eb792-c441-4488-f187-035328673faa",
        "colab": {
          "base_uri": "https://localhost:8080/",
          "height": 272
        }
      },
      "source": [
        "#vamos olhar para os melhores resultados encontrados pelo Grid Search\n",
        "print('Melhor resultado f1:', grid_cv1.best_score_)\n",
        "print('\\n\\nMelhor configuração de hiperparâmetros:', grid_cv1.best_params_)\n",
        "print( '\\n\\nConfigurações de todos os hiperparâmetros do melhor estimado encontrado pelo GridSearch: \\n', grid_cv1.best_estimator_)"
      ],
      "execution_count": null,
      "outputs": [
        {
          "output_type": "stream",
          "text": [
            "Melhor resultado f1: 0.631712870537294\n",
            "\n",
            "\n",
            "Melhor configuração de hiperparâmetros: {'bootstrap': True, 'n_estimators': 100}\n",
            "\n",
            "\n",
            "Configurações de todos os hiperparâmetros do melhor estimado encontrado pelo GridSearch: \n",
            " RandomForestClassifier(bootstrap=True, ccp_alpha=0.0, class_weight=None,\n",
            "                       criterion='gini', max_depth=None, max_features='auto',\n",
            "                       max_leaf_nodes=None, max_samples=None,\n",
            "                       min_impurity_decrease=0.0, min_impurity_split=None,\n",
            "                       min_samples_leaf=1, min_samples_split=2,\n",
            "                       min_weight_fraction_leaf=0.0, n_estimators=100,\n",
            "                       n_jobs=None, oob_score=False, random_state=None,\n",
            "                       verbose=0, warm_start=False)\n"
          ],
          "name": "stdout"
        }
      ]
    },
    {
      "cell_type": "markdown",
      "metadata": {
        "id": "YVMIv32NtbXZ"
      },
      "source": [
        "## Random Search"
      ]
    },
    {
      "cell_type": "code",
      "metadata": {
        "id": "U2n-atBAVTub"
      },
      "source": [
        "from sklearn.model_selection import RandomizedSearchCV\n",
        "from scipy.stats import uniform\n"
      ],
      "execution_count": null,
      "outputs": []
    },
    {
      "cell_type": "code",
      "metadata": {
        "id": "wC4RaD7gVUTb",
        "outputId": "e44c0a92-70ba-4f1d-f42b-9e8278532905",
        "colab": {
          "base_uri": "https://localhost:8080/",
          "height": 255
        }
      },
      "source": [
        "#definindo o tipo de validacao cruzada e o numero de folds\n",
        "cv_strat = StratifiedKFold(n_splits = 10)\n",
        "\n",
        "#definindo a estrategia de score a partir da metrica f1\n",
        "f1 = make_scorer(f1_score)\n",
        "\n",
        "#definindo hiperparâmetros\n",
        "distributions = dict(kernel = ['sigmoid', 'rbf'], \n",
        "                     C = uniform(loc=0, scale=10))\n",
        "\n",
        "#instânciando meu classificador\n",
        "classifier = SVC()\n",
        "\n",
        "#instanciando e modelando o grid search com os hiperparametros e a validação definidas.\n",
        "random_cv = RandomizedSearchCV(classifier, distributions, cv = cv_strat, scoring = f1, random_state = 42, n_iter = 10)\n",
        "random_cv.fit(data, labels)"
      ],
      "execution_count": null,
      "outputs": [
        {
          "output_type": "execute_result",
          "data": {
            "text/plain": [
              "RandomizedSearchCV(cv=StratifiedKFold(n_splits=10, random_state=None, shuffle=False),\n",
              "                   error_score=nan,\n",
              "                   estimator=SVC(C=1.0, break_ties=False, cache_size=200,\n",
              "                                 class_weight=None, coef0=0.0,\n",
              "                                 decision_function_shape='ovr', degree=3,\n",
              "                                 gamma='scale', kernel='rbf', max_iter=-1,\n",
              "                                 probability=False, random_state=None,\n",
              "                                 shrinking=True, tol=0.001, verbose=False),\n",
              "                   iid='deprecated', n_iter=10, n_jobs=None,\n",
              "                   param_distributions={'C': <scipy.stats._distn_infrastructure.rv_frozen object at 0x7f24af4b6ba8>,\n",
              "                                        'kernel': ['sigmoid', 'rbf']},\n",
              "                   pre_dispatch='2*n_jobs', random_state=42, refit=True,\n",
              "                   return_train_score=False, scoring=make_scorer(f1_score),\n",
              "                   verbose=0)"
            ]
          },
          "metadata": {
            "tags": []
          },
          "execution_count": 43
        }
      ]
    },
    {
      "cell_type": "code",
      "metadata": {
        "id": "HgRLiFq5VUCP",
        "outputId": "c6dbb78b-79f6-440f-9428-c385baffe416",
        "colab": {
          "base_uri": "https://localhost:8080/",
          "height": 615
        }
      },
      "source": [
        "#vamos olhar para todos os resultados encontrados!\n",
        "print('Resumo de todos os resultados encontrados:\\n\\n', random_cv.cv_results_)"
      ],
      "execution_count": null,
      "outputs": [
        {
          "output_type": "stream",
          "text": [
            "Resumo de todos os resultados encontrados:\n",
            "\n",
            " {'mean_fit_time': array([0.01743183, 0.01251316, 0.01637902, 0.01633952, 0.01266174,\n",
            "       0.01262558, 0.01349046, 0.01275918, 0.01381507, 0.01370175]), 'std_fit_time': array([8.96088319e-04, 2.02279049e-04, 8.94469021e-04, 1.53829487e-04,\n",
            "       9.97991694e-05, 3.29973523e-04, 2.60379515e-04, 1.48324506e-04,\n",
            "       9.89669745e-04, 1.15203011e-04]), 'mean_score_time': array([0.00276256, 0.00189369, 0.00258408, 0.00245249, 0.00189335,\n",
            "       0.00185535, 0.00195458, 0.00203598, 0.00201461, 0.00205472]), 'std_score_time': array([3.80258261e-04, 4.57183463e-05, 4.50179095e-04, 5.07973989e-05,\n",
            "       5.00100858e-05, 3.76609975e-05, 2.14595064e-04, 5.20280747e-05,\n",
            "       3.94735097e-04, 2.60622044e-05]), 'param_C': masked_array(data=[3.745401188473625, 1.834347898661638,\n",
            "                   5.986584841970366, 4.458327528535912,\n",
            "                   0.5808361216819946, 3.337086111390218,\n",
            "                   7.080725777960454, 0.5641157902710026,\n",
            "                   8.324426408004218, 0.007787658410143283],\n",
            "             mask=[False, False, False, False, False, False, False, False,\n",
            "                   False, False],\n",
            "       fill_value='?',\n",
            "            dtype=object), 'param_kernel': masked_array(data=['sigmoid', 'rbf', 'sigmoid', 'sigmoid', 'rbf', 'rbf',\n",
            "                   'rbf', 'rbf', 'rbf', 'rbf'],\n",
            "             mask=[False, False, False, False, False, False, False, False,\n",
            "                   False, False],\n",
            "       fill_value='?',\n",
            "            dtype=object), 'params': [{'C': 3.745401188473625, 'kernel': 'sigmoid'}, {'C': 1.834347898661638, 'kernel': 'rbf'}, {'C': 5.986584841970366, 'kernel': 'sigmoid'}, {'C': 4.458327528535912, 'kernel': 'sigmoid'}, {'C': 0.5808361216819946, 'kernel': 'rbf'}, {'C': 3.337086111390218, 'kernel': 'rbf'}, {'C': 7.080725777960454, 'kernel': 'rbf'}, {'C': 0.5641157902710026, 'kernel': 'rbf'}, {'C': 8.324426408004218, 'kernel': 'rbf'}, {'C': 0.007787658410143283, 'kernel': 'rbf'}], 'split0_test_score': array([0.13636364, 0.59574468, 0.17777778, 0.17777778, 0.59090909,\n",
            "       0.56      , 0.58823529, 0.60465116, 0.58823529, 0.        ]), 'split1_test_score': array([0.26415094, 0.51282051, 0.29090909, 0.26415094, 0.42105263,\n",
            "       0.55      , 0.57142857, 0.42105263, 0.60465116, 0.        ]), 'split2_test_score': array([0.11538462, 0.58333333, 0.11320755, 0.11538462, 0.54166667,\n",
            "       0.59574468, 0.57142857, 0.54166667, 0.57142857, 0.        ]), 'split3_test_score': array([0.28571429, 0.58823529, 0.28571429, 0.28571429, 0.47826087,\n",
            "       0.6       , 0.58823529, 0.47826087, 0.58823529, 0.        ]), 'split4_test_score': array([0.14035088, 0.43243243, 0.16949153, 0.13793103, 0.46153846,\n",
            "       0.43243243, 0.47368421, 0.46153846, 0.47368421, 0.        ]), 'split5_test_score': array([0.11764706, 0.72340426, 0.11320755, 0.11764706, 0.65116279,\n",
            "       0.72340426, 0.70833333, 0.65116279, 0.70833333, 0.        ]), 'split6_test_score': array([0.32142857, 0.63829787, 0.32142857, 0.32142857, 0.60869565,\n",
            "       0.63829787, 0.63829787, 0.60869565, 0.63829787, 0.        ]), 'split7_test_score': array([0.08      , 0.68085106, 0.07692308, 0.07692308, 0.62222222,\n",
            "       0.68085106, 0.68085106, 0.62222222, 0.68085106, 0.        ]), 'split8_test_score': array([0.19607843, 0.59090909, 0.25925926, 0.25925926, 0.59090909,\n",
            "       0.57777778, 0.57777778, 0.59090909, 0.54545455, 0.        ]), 'split9_test_score': array([0.18181818, 0.63636364, 0.18181818, 0.18181818, 0.61904762,\n",
            "       0.63636364, 0.66666667, 0.61904762, 0.66666667, 0.        ]), 'mean_test_score': array([0.18389366, 0.59823922, 0.19897369, 0.19380348, 0.55854651,\n",
            "       0.59948717, 0.60649387, 0.55992072, 0.6065838 , 0.        ]), 'std_test_score': array([0.0774005 , 0.0779228 , 0.08113346, 0.07943647, 0.07479853,\n",
            "       0.07565893, 0.06490104, 0.07550339, 0.06617883, 0.        ]), 'rank_test_score': array([ 9,  4,  7,  8,  6,  3,  2,  5,  1, 10], dtype=int32)}\n"
          ],
          "name": "stdout"
        }
      ]
    },
    {
      "cell_type": "code",
      "metadata": {
        "id": "Vvq83iuPVTil",
        "outputId": "833536b4-fdfb-4602-e31c-b5c9c1d0ebb5",
        "colab": {
          "base_uri": "https://localhost:8080/",
          "height": 204
        }
      },
      "source": [
        "#vamos olhar para os melhores resultados encontrados pelo Grid Search\n",
        "print('Melhor resultado f1:', random_cv.best_score_)\n",
        "print('\\n\\nMelhor configuração de hiperparâmetros:', random_cv.best_params_)\n",
        "print( '\\n\\nConfigurações de todos os hiperparâmetros do melhor estimado encontrado pelo GridSearch: \\n', random_cv.best_estimator_)"
      ],
      "execution_count": null,
      "outputs": [
        {
          "output_type": "stream",
          "text": [
            "Melhor resultado f1: 0.6065838014605637\n",
            "\n",
            "\n",
            "Melhor configuração de hiperparâmetros: {'C': 8.324426408004218, 'kernel': 'rbf'}\n",
            "\n",
            "\n",
            "Configurações de todos os hiperparâmetros do melhor estimado encontrado pelo GridSearch: \n",
            " SVC(C=8.324426408004218, break_ties=False, cache_size=200, class_weight=None,\n",
            "    coef0=0.0, decision_function_shape='ovr', degree=3, gamma='scale',\n",
            "    kernel='rbf', max_iter=-1, probability=False, random_state=None,\n",
            "    shrinking=True, tol=0.001, verbose=False)\n"
          ],
          "name": "stdout"
        }
      ]
    },
    {
      "cell_type": "markdown",
      "metadata": {
        "id": "4lfIZeeOtO4m"
      },
      "source": [
        "Vamos testar agora o mesmo processo para o RF"
      ]
    },
    {
      "cell_type": "code",
      "metadata": {
        "id": "3PSNjbi72daK"
      },
      "source": [
        "from scipy.stats import randint"
      ],
      "execution_count": null,
      "outputs": []
    },
    {
      "cell_type": "code",
      "metadata": {
        "id": "xOWsq5JxtNZp",
        "outputId": "05d6bd40-3a06-41ac-ebd0-38becc09a41a",
        "colab": {
          "base_uri": "https://localhost:8080/",
          "height": 408
        }
      },
      "source": [
        "#definindo o tipo de validacao cruzada e o numero de folds\n",
        "cv_strat = StratifiedKFold(n_splits = 10)\n",
        "\n",
        "#definindo a estrategia de score a partir da metrica f1\n",
        "f1 = make_scorer(f1_score)\n",
        "\n",
        "#definindo hiperparâmetros\n",
        "distributions1 = dict(n_estimators = randint(10, 100),\n",
        "                      bootstrap = [True, False],\n",
        "                      criterion = ['gini', 'entropy'])\n",
        "\n",
        "#instânciando meu classificador\n",
        "classifier1 = RandomForestClassifier(random_state = 42)\n",
        "\n",
        "#instanciando e modelando o grid search com os hiperparametros e a validação definidas.\n",
        "random_cv1 = RandomizedSearchCV(classifier1, distributions1, cv = cv_strat, scoring = f1, random_state = 42, n_iter = 10)\n",
        "random_cv1.fit(data, labels)"
      ],
      "execution_count": null,
      "outputs": [
        {
          "output_type": "execute_result",
          "data": {
            "text/plain": [
              "RandomizedSearchCV(cv=StratifiedKFold(n_splits=10, random_state=None, shuffle=False),\n",
              "                   error_score=nan,\n",
              "                   estimator=RandomForestClassifier(bootstrap=True,\n",
              "                                                    ccp_alpha=0.0,\n",
              "                                                    class_weight=None,\n",
              "                                                    criterion='gini',\n",
              "                                                    max_depth=None,\n",
              "                                                    max_features='auto',\n",
              "                                                    max_leaf_nodes=None,\n",
              "                                                    max_samples=None,\n",
              "                                                    min_impurity_decrease=0.0,\n",
              "                                                    min_impurity_split=None,\n",
              "                                                    min_samples_leaf=1,\n",
              "                                                    min_samples_s...\n",
              "                                                    random_state=42, verbose=0,\n",
              "                                                    warm_start=False),\n",
              "                   iid='deprecated', n_iter=10, n_jobs=None,\n",
              "                   param_distributions={'bootstrap': [True, False],\n",
              "                                        'criterion': ['gini', 'entropy'],\n",
              "                                        'n_estimators': <scipy.stats._distn_infrastructure.rv_frozen object at 0x7f24af433908>},\n",
              "                   pre_dispatch='2*n_jobs', random_state=42, refit=True,\n",
              "                   return_train_score=False, scoring=make_scorer(f1_score),\n",
              "                   verbose=0)"
            ]
          },
          "metadata": {
            "tags": []
          },
          "execution_count": 47
        }
      ]
    },
    {
      "cell_type": "code",
      "metadata": {
        "id": "XesO-gRitOHo",
        "outputId": "6a318b69-c14a-45c5-a370-c8871bb88cf4",
        "colab": {
          "base_uri": "https://localhost:8080/",
          "height": 615
        }
      },
      "source": [
        "#vamos olhar para todos os resultados encontrados!\n",
        "print('Resumo de todos os resultados encontrados:\\n\\n', random_cv1.cv_results_)"
      ],
      "execution_count": null,
      "outputs": [
        {
          "output_type": "stream",
          "text": [
            "Resumo de todos os resultados encontrados:\n",
            "\n",
            " {'mean_fit_time': array([0.05033348, 0.14521437, 0.15725605, 0.14584894, 0.05743413,\n",
            "       0.12826822, 0.09081302, 0.16605668, 0.07150466, 0.07153697]), 'std_fit_time': array([0.00088092, 0.00273989, 0.003264  , 0.00305033, 0.00057686,\n",
            "       0.00253568, 0.00342959, 0.00162616, 0.00161113, 0.00207368]), 'mean_score_time': array([0.00295656, 0.00660126, 0.00821991, 0.00764308, 0.00381598,\n",
            "       0.00579894, 0.00428905, 0.0068368 , 0.00441   , 0.0035888 ]), 'std_score_time': array([4.36226585e-05, 3.72039019e-04, 5.82707346e-04, 3.34096325e-04,\n",
            "       6.68500527e-05, 1.78826562e-04, 2.17431423e-04, 1.45993810e-04,\n",
            "       1.11082358e-04, 1.15839795e-04]), 'param_bootstrap': masked_array(data=[True, True, True, True, False, True, False, False,\n",
            "                   False, False],\n",
            "             mask=[False, False, False, False, False, False, False, False,\n",
            "                   False, False],\n",
            "       fill_value='?',\n",
            "            dtype=object), 'param_criterion': masked_array(data=['entropy', 'entropy', 'gini', 'gini', 'gini',\n",
            "                   'entropy', 'entropy', 'entropy', 'gini', 'entropy'],\n",
            "             mask=[False, False, False, False, False, False, False, False,\n",
            "                   False, False],\n",
            "       fill_value='?',\n",
            "            dtype=object), 'param_n_estimators': masked_array(data=[24, 70, 92, 84, 33, 62, 39, 73, 42, 31],\n",
            "             mask=[False, False, False, False, False, False, False, False,\n",
            "                   False, False],\n",
            "       fill_value='?',\n",
            "            dtype=object), 'params': [{'bootstrap': True, 'criterion': 'entropy', 'n_estimators': 24}, {'bootstrap': True, 'criterion': 'entropy', 'n_estimators': 70}, {'bootstrap': True, 'criterion': 'gini', 'n_estimators': 92}, {'bootstrap': True, 'criterion': 'gini', 'n_estimators': 84}, {'bootstrap': False, 'criterion': 'gini', 'n_estimators': 33}, {'bootstrap': True, 'criterion': 'entropy', 'n_estimators': 62}, {'bootstrap': False, 'criterion': 'entropy', 'n_estimators': 39}, {'bootstrap': False, 'criterion': 'entropy', 'n_estimators': 73}, {'bootstrap': False, 'criterion': 'gini', 'n_estimators': 42}, {'bootstrap': False, 'criterion': 'entropy', 'n_estimators': 31}], 'split0_test_score': array([0.61818182, 0.58181818, 0.57142857, 0.57142857, 0.61016949,\n",
            "       0.59259259, 0.5862069 , 0.57142857, 0.62068966, 0.59649123]), 'split1_test_score': array([0.63636364, 0.62222222, 0.68181818, 0.66666667, 0.65306122,\n",
            "       0.63829787, 0.69387755, 0.68      , 0.625     , 0.72340426]), 'split2_test_score': array([0.62962963, 0.64      , 0.58823529, 0.58823529, 0.65454545,\n",
            "       0.66666667, 0.5862069 , 0.58181818, 0.60377358, 0.62068966]), 'split3_test_score': array([0.56603774, 0.53571429, 0.53571429, 0.54545455, 0.49056604,\n",
            "       0.54545455, 0.53571429, 0.56603774, 0.50909091, 0.52631579]), 'split4_test_score': array([0.47619048, 0.52380952, 0.52380952, 0.51162791, 0.63636364,\n",
            "       0.52380952, 0.42857143, 0.52380952, 0.61904762, 0.42857143]), 'split5_test_score': array([0.5       , 0.66666667, 0.74509804, 0.76      , 0.66666667,\n",
            "       0.66666667, 0.70833333, 0.69387755, 0.68      , 0.72      ]), 'split6_test_score': array([0.625     , 0.65306122, 0.65217391, 0.65217391, 0.70833333,\n",
            "       0.625     , 0.72340426, 0.65217391, 0.70833333, 0.72340426]), 'split7_test_score': array([0.76923077, 0.76      , 0.76      , 0.76      , 0.74509804,\n",
            "       0.76      , 0.76      , 0.74509804, 0.79166667, 0.76      ]), 'split8_test_score': array([0.58333333, 0.55319149, 0.52173913, 0.52173913, 0.52      ,\n",
            "       0.55319149, 0.43478261, 0.45833333, 0.56      , 0.43478261]), 'split9_test_score': array([0.625     , 0.66666667, 0.68      , 0.68      , 0.61904762,\n",
            "       0.625     , 0.68085106, 0.68085106, 0.61904762, 0.65217391]), 'mean_test_score': array([0.60289674, 0.62031503, 0.62600169, 0.6257326 , 0.63038515,\n",
            "       0.61966794, 0.61379483, 0.61534279, 0.63366494, 0.61858331]), 'std_test_score': array([0.0768739 , 0.06908724, 0.08527956, 0.08718327, 0.07345506,\n",
            "       0.06660589, 0.11278711, 0.08446668, 0.07429423, 0.11501314]), 'rank_test_score': array([10,  5,  3,  4,  2,  6,  9,  8,  1,  7], dtype=int32)}\n"
          ],
          "name": "stdout"
        }
      ]
    },
    {
      "cell_type": "code",
      "metadata": {
        "id": "yMSdPhahtN6c",
        "outputId": "18a81dba-62f1-4660-9d29-4d27d59b49d7",
        "colab": {
          "base_uri": "https://localhost:8080/",
          "height": 272
        }
      },
      "source": [
        "#vamos olhar para os melhores resultados encontrados pelo Grid Search\n",
        "print('Melhor resultado f1:', random_cv1.best_score_)\n",
        "print('\\n\\nMelhor configuração de hiperparâmetros:', random_cv1.best_params_)\n",
        "print( '\\n\\nConfigurações de todos os hiperparâmetros do melhor estimado encontrado pelo GridSearch: \\n', random_cv1.best_estimator_)"
      ],
      "execution_count": null,
      "outputs": [
        {
          "output_type": "stream",
          "text": [
            "Melhor resultado f1: 0.6336649387264222\n",
            "\n",
            "\n",
            "Melhor configuração de hiperparâmetros: {'bootstrap': False, 'criterion': 'gini', 'n_estimators': 42}\n",
            "\n",
            "\n",
            "Configurações de todos os hiperparâmetros do melhor estimado encontrado pelo GridSearch: \n",
            " RandomForestClassifier(bootstrap=False, ccp_alpha=0.0, class_weight=None,\n",
            "                       criterion='gini', max_depth=None, max_features='auto',\n",
            "                       max_leaf_nodes=None, max_samples=None,\n",
            "                       min_impurity_decrease=0.0, min_impurity_split=None,\n",
            "                       min_samples_leaf=1, min_samples_split=2,\n",
            "                       min_weight_fraction_leaf=0.0, n_estimators=42,\n",
            "                       n_jobs=None, oob_score=False, random_state=42, verbose=0,\n",
            "                       warm_start=False)\n"
          ],
          "name": "stdout"
        }
      ]
    },
    {
      "cell_type": "markdown",
      "metadata": {
        "id": "Sflk-zE29Vwf"
      },
      "source": [
        "O Processo de parametrização de um modelo nem sempre é simples. \n",
        "\n",
        "Existem alguns métodos que podem nos ajudar a suavizar o custo da otimização.\n",
        "\n",
        "Entretanto, é preciso saber quais os hiperperâmetros mais interessantes para calibrar e qual a faixa de valores que faz mais sentido. \n",
        "\n",
        "Nesse hands-on falamos de Grid e Random Search. A escolha do método fica por sua conta. \n",
        "É preciso pensar com cuidado e avaliar as soluções encontradas pelos métodos. "
      ]
    },
    {
      "cell_type": "markdown",
      "metadata": {
        "id": "9Yvn2Ui9fDyK"
      },
      "source": [
        "# Chegamos ao final do módulo! \n",
        "\n",
        "# Vejo vocês de novo em breve!"
      ]
    }
  ]
}